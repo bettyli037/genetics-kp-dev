{
  "nbformat": 4,
  "nbformat_minor": 0,
  "metadata": {
    "colab": {
      "provenance": []
    },
    "kernelspec": {
      "name": "python3",
      "display_name": "Python 3"
    },
    "language_info": {
      "name": "python"
    }
  },
  "cells": [
    {
      "cell_type": "code",
      "execution_count": 6,
      "metadata": {
        "id": "LF40KIzkgrwb"
      },
      "outputs": [],
      "source": [
        "# imports\n",
        "import csv \n",
        "import pandas as pd \n",
        "import os\n",
        "import requests \n",
        "import time\n",
        "import logging\n",
        "import json\n"
      ]
    },
    {
      "cell_type": "code",
      "source": [
        "# constants\n",
        "# gene/disease qualifiers\n",
        "# querying for subject disease decreased severity\n",
        "# looking object gene decreased activity\n",
        "list_gene_qualifiers = [\n",
        "{\"qualifier_type_id\": \"object_aspect_qualifier\", \"qualifier_value\": \"activity\"},\n",
        "{\"qualifier_type_id\": \"object_direction_qualifier\", \"qualifier_value\": \"decreased\"},\n",
        "{\"qualifier_type_id\": \"subject_aspect_qualifier\", \"qualifier_value\": \"severity\"},\n",
        "{\"qualifier_type_id\": \"subject_direction_qualifier\", \"qualifier_value\": \"decreased\"}    \n",
        "]\n",
        "# molecular qualifiers\n",
        "\n",
        "# trapi constants\n",
        "type_gene = 'biolink:Gene'\n",
        "type_disease = 'biolink:Disease'\n",
        "type_molecule = 'biolink:SmallMolecule'\n",
        "type_predicate = 'biolink:related_to'\n",
        "\n",
        "# servers\n",
        "url_genepro = \"https://translator.broadinstitute.org/genetics_provider/trapi/v1.3/query\""
      ],
      "metadata": {
        "id": "xZjbI4pMhDgT"
      },
      "execution_count": 13,
      "outputs": []
    },
    {
      "cell_type": "code",
      "source": [
        "# variables\n",
        "# disease \n",
        "curie_disease = 'MONDO:0021765' # radiculitis\n",
        "curie_disease = 'MONDO:0004975' # alzheimer's\n"
      ],
      "metadata": {
        "id": "pw2FJrJPp0fJ"
      },
      "execution_count": 18,
      "outputs": []
    },
    {
      "cell_type": "code",
      "source": [
        "# __main__\n",
        "# query genetics kp\n",
        "map_gen_nodes, map_gen_edges = get_nodes_edges_one_hop(url=url_genepro, list_source=[curie_disease], list_target=[], list_source_categories=[type_disease], list_target_categories=[type_gene], list_predicates=[type_predicate], log=True)"
      ],
      "metadata": {
        "colab": {
          "base_uri": "https://localhost:8080/"
        },
        "id": "JygeDvo_hH85",
        "outputId": "79c0146f-f0c0-4a66-d7d6-825f01f30b5a"
      },
      "execution_count": 50,
      "outputs": [
        {
          "output_type": "stream",
          "name": "stdout",
          "text": [
            "build trapi payload: \n",
            "{\n",
            "    \"message\": {\n",
            "        \"query_graph\": {\n",
            "            \"edges\": {\n",
            "                \"e00\": {\n",
            "                    \"subject\": \"n00\",\n",
            "                    \"object\": \"n01\",\n",
            "                    \"predicates\": [\n",
            "                        \"biolink:related_to\"\n",
            "                    ]\n",
            "                }\n",
            "            },\n",
            "            \"nodes\": {\n",
            "                \"n00\": {\n",
            "                    \"ids\": [\n",
            "                        \"MONDO:0004975\"\n",
            "                    ],\n",
            "                    \"categories\": [\n",
            "                        \"biolink:Disease\"\n",
            "                    ]\n",
            "                },\n",
            "                \"n01\": {\n",
            "                    \"categories\": [\n",
            "                        \"biolink:Gene\"\n",
            "                    ]\n",
            "                }\n",
            "            }\n",
            "        }\n",
            "    }\n",
            "}\n",
            "query: https://translator.broadinstitute.org/genetics_provider/trapi/v1.3/query\n",
            "got results from: https://translator.broadinstitute.org/genetics_provider/trapi/v1.3/query\n",
            "got node count: 423 and edge_count: 450\n"
          ]
        }
      ]
    },
    {
      "cell_type": "code",
      "source": [
        "# filter the genetics KP results based on the qualifiers\n",
        "# querying for subject disease decreased severity\n",
        "# looking object gene decreased activity\n",
        "map_gen_filtered_edges = filter_edges_by_qualifier(map_gen_edges, list_gene_qualifiers)\n",
        "print(\"for genetics filtered edges rowcount: {}\".format(len(map_gen_filtered_edges)))\n",
        "\n",
        "\n"
      ],
      "metadata": {
        "colab": {
          "base_uri": "https://localhost:8080/"
        },
        "id": "zF-uePqJIRaK",
        "outputId": "9f4e43a7-1d37-4830-d6f6-008e4076d479"
      },
      "execution_count": 51,
      "outputs": [
        {
          "output_type": "stream",
          "name": "stdout",
          "text": [
            "for genetics filtered edges rowcount: 0\n"
          ]
        }
      ]
    },
    {
      "cell_type": "code",
      "source": [
        "# get the genes from the filtered genetics kp edges\n"
      ],
      "metadata": {
        "id": "nM7GKQcRLThC"
      },
      "execution_count": null,
      "outputs": []
    },
    {
      "cell_type": "code",
      "source": [
        "# methods - trapi\n",
        "def get_nodes_edges_one_hop(url, list_source, list_target, list_source_categories, list_target_categories, list_predicates, log=False):\n",
        "    ''' method to query a trapi url and get the resulting node list back '''\n",
        "\n",
        "    # query\n",
        "    json_response = query_one_hop(url, list_source, list_target, list_source_categories, list_target_categories, list_predicates, log)\n",
        "\n",
        "    # loop and build the list\n",
        "    map_nodes = json_response.get(\"message\").get(\"knowledge_graph\").get(\"nodes\")\n",
        "    map_edges = json_response.get(\"message\").get(\"knowledge_graph\").get(\"edges\")\n",
        "\n",
        "    # log\n",
        "    if log:\n",
        "        # print(\"got {} resulting nodes: {}\".format(len(list_result), list_result))\n",
        "        print(\"got node count: {} and edge_count: {}\".format(len(map_nodes), len(map_edges)))\n",
        "\n",
        "    # return\n",
        "    return map_nodes, map_edges\n",
        "\n",
        "def query_one_hop(url, list_source, list_target, list_source_categories, list_target_categories, list_predicates, log=False):\n",
        "    ''' method to call a trapi url '''\n",
        "    response = None\n",
        "\n",
        "    # build the payload\n",
        "    payload = build_one_hop_payload(list_source, list_target, list_source_categories, list_target_categories, list_predicates, log=log)\n",
        "\n",
        "    # call the url\n",
        "    print(\"query: {}\".format(url))\n",
        "    response = requests.post(url, json=payload)\n",
        "    output_json = response.json()\n",
        "    print(\"got results from: {}\".format(url))\n",
        "\n",
        "    # log\n",
        "    # if log:\n",
        "    #     logger.info(\"got response: {}\".format(output_json))\n",
        "\n",
        "    # return the json\n",
        "    return output_json\n",
        "\n",
        "def build_one_hop_payload(list_source, list_target, list_source_categories, list_target_categories, list_predicates, log=False):\n",
        "    ''' method to build a one hop json payload for a trapi query '''\n",
        "    payload = {}\n",
        "\n",
        "    # build the payload\n",
        "    nodes = {\"n00\": build_trapi_query_node(list_source, list_source_categories, log=True), \"n01\": build_trapi_query_node(list_target, list_target_categories, log=True)}\n",
        "    edge = {\"subject\": \"n00\", \"object\": \"n01\"}\n",
        "    if list_predicates and len(list_predicates) > 0:\n",
        "        edge[\"predicates\"]= list_predicates\n",
        "    edges = {\"e00\": edge}\n",
        "    payload[\"message\"] = {\"query_graph\": {\"edges\": edges, \"nodes\": nodes}}\n",
        "\n",
        "    # log\n",
        "    if log:\n",
        "        print(\"build trapi payload: \\n{}\".format(json.dumps(payload, indent=4)))\n",
        "\n",
        "    # return\n",
        "    return payload\n",
        "\n",
        "def build_trapi_query_node(list_source, list_source_categories, log=False):\n",
        "    ''' method to build a trapi query node '''\n",
        "    node = {}\n",
        "\n",
        "    # log\n",
        "    # if log:\n",
        "    #     logger.info(\"got id: {} and categories: {}\".format(list_source, list_source_categories))\n",
        "\n",
        "    # build the node\n",
        "    if list_source and len(list_source) > 0:\n",
        "        node['ids'] = list_source\n",
        "    if list_source_categories and len(list_source_categories) > 0:\n",
        "        node['categories'] = list_source_categories\n",
        "\n",
        "    # return\n",
        "    return node"
      ],
      "metadata": {
        "id": "uqEeceVfhE9y"
      },
      "execution_count": 39,
      "outputs": []
    },
    {
      "cell_type": "code",
      "source": [
        "# methods\n",
        "# method to take edges and return only those with specified qualifiers\n",
        "def filter_edges_by_qualifier(map_edges, list_qualifiers, log=False):\n",
        "  \"\"\"take edges and return only those with specified qualifiers\"\"\"\n",
        "  # return only subject/object\n",
        "  map_filtered_edges = {}\n",
        "\n",
        "  # loop (not pretty)\n",
        "  # for each edge in edges map, get the qualifiers list\n",
        "  for key, value in map_edges.items():\n",
        "    if value.get('qualifiers'):\n",
        "      if is_subset(list_gene_qualifiers, value.get('qualifiers')):\n",
        "        # add to result\n",
        "        map_filtered_edges[key] = value\n",
        "\n",
        "  # return\n",
        "  return map_filtered_edges\n",
        "\n",
        "# compare qualifiers\n",
        "def is_subset(list_one, list_two):\n",
        "  '''returns true if list 1 subset of list 2'''\n",
        "  is_subset = True\n",
        "\n",
        "  print(\"comparing list 1: {}\".format(list_one))\n",
        "  print(\"comparing list 2: {}\".format(list_two))\n",
        "\n",
        "  # TODO - refactor from brute force\n",
        "  for row_one in list_one:\n",
        "    found_row = False\n",
        "    for row_two in list_two:\n",
        "      if row_one == row_two:\n",
        "        found_row = True\n",
        "        break\n",
        "\n",
        "    # if one row now found, false and break\n",
        "    if not found_row:\n",
        "      is_subset = False\n",
        "      break\n",
        "\n",
        "  # return\n",
        "  return is_subset\n",
        "\n",
        "# method to return nodes with qualifiers (map gene, chem, qualifiers)\n"
      ],
      "metadata": {
        "id": "3tAZcUXo4PWZ"
      },
      "execution_count": 48,
      "outputs": []
    },
    {
      "cell_type": "code",
      "source": [
        "# scratch code\n",
        "list_test = [{\"qualifier_type_id\": \"object_direction_qualifier\", \"qualifier_value\": \"decreased\"}]\n",
        "result = is_subset(list_test, list_gene_qualifiers)\n",
        "result\n",
        "\n",
        "\n",
        "# {\"qualifier_type_id\": \"object_direction_qualifier\", \"qualifier_value\": \"decreased\"} == {\"qualifier_type_id\": \"object_direction_qualifier\", \"qualifier_value\": \"decreased\"}"
      ],
      "metadata": {
        "colab": {
          "base_uri": "https://localhost:8080/"
        },
        "id": "5ORzC09L8clH",
        "outputId": "5ff211f7-6581-4a82-cd1b-bc62fec1001e"
      },
      "execution_count": 35,
      "outputs": [
        {
          "output_type": "execute_result",
          "data": {
            "text/plain": [
              "True"
            ]
          },
          "metadata": {},
          "execution_count": 35
        }
      ]
    },
    {
      "cell_type": "markdown",
      "source": [
        "Phenotypes that we loaded that ameliorates disease \n",
        "\n",
        "\n",
        "```\n",
        "+-----+---------------+----------------------+\n",
        "| num | curie         | name                 |\n",
        "+-----+---------------+----------------------+\n",
        "|   1 | MONDO:0004242 | active peptic ulcer  |\n",
        "|   4 | MONDO:0004781 | acute myocardial inf |\n",
        "|   2 | MONDO:0002280 | anemia               |\n",
        "|   3 | MONDO:0002519 | anus disease         |\n",
        "|   5 | EFO:0006788   | anxiety disorder     |\n",
        "|   2 | MONDO:0004979 | asthma               |\n",
        "|   4 | MONDO:0004981 | atrial fibrillation  |\n",
        "|   1 | MONDO:0000465 | atrioventricular blo |\n",
        "|   1 | MONDO:0005229 | bacterial infectious |\n",
        "|   3 | EFO:0000284   | benign prostatic hyp |\n",
        "|   1 | MONDO:0004985 | bipolar disorder     |\n",
        "|   1 | EFO:0004138   | bundle branch block  |\n",
        "|   5 | EFO:0004269   | cardiac arrhythmia   |\n",
        "|   2 | MONDO:0004995 | cardiovascular disea |\n",
        "|   1 | MONDO:0005129 | cataract             |\n",
        "|   2 | EFO:0003763   | cerebrovascular diso |\n",
        "|   2 | MONDO:0012672 | cholelithiasis       |\n",
        "|   1 | EFO:0009538   | chronic inflammatory |\n",
        "|   1 | MONDO:0005300 | chronic kidney disea |\n",
        "|   2 | MONDO:0005009 | congestive heart fai |\n",
        "|   1 | MONDO:0004596 | cor pulmonale        |\n",
        "|   1 | MONDO:0002175 | degeneration of macu |\n",
        "|   2 | MONDO:0002040 | dermatomycosis       |\n",
        "|   6 | MONDO:0005015 | diabetes mellitus    |\n",
        "|   2 | EFO:0009959   | diverticular disease |\n",
        "|   1 | EFO:0009666   | enthesopathy         |\n",
        "|   1 | EFO:1000695   | erythematosquamous d |\n",
        "|   3 | MONDO:0003749 | esophageal disease   |\n",
        "|   1 | MONDO:0001409 | esophagitis          |\n",
        "|   1 | MONDO:0004830 | fasciitis            |\n",
        "|   2 | EFO:0009523   | fecal incontinence   |\n",
        "|   3 | EFO:0009549   | female reproductive  |\n",
        "|   1 | MONDO:0015978 | functional neutrophi |\n",
        "|   1 | EFO:0000217   | gastritis            |\n",
        "|   1 | MONDO:0005041 | glaucoma             |\n",
        "|   3 | EFO:0009550   | headache disorder    |\n",
        "|   4 | MONDO:0005267 | heart disease        |\n",
        "|   1 | EFO:0005803   | hematologic disease  |\n",
        "|   1 | MONDO:0005161 | human papilloma viru |\n",
        "|  16 | MONDO:0005044 | hypertensive disorde |\n",
        "|   5 | MONDO:0005420 | hypothyroidism       |\n",
        "|   2 | MONDO:0005046 | immune system diseas |\n",
        "|   1 | MONDO:0005265 | inflammatory bowel d |\n",
        "|   2 | MONDO:0001356 | iron deficiency anem |\n",
        "|  10 | EFO:0001425   | ischemic cardiomyopa |\n",
        "|   2 | EFO:1000999   | joint disease        |\n",
        "|   1 | MONDO:0001106 | kidney failure       |\n",
        "|   2 | EFO:0001421   | liver disease        |\n",
        "|   1 | MONDO:0008903 | lung cancer          |\n",
        "|   2 | MONDO:0002013 | lymphangioma         |\n",
        "|   1 | MONDO:0005277 | migraine disorder    |\n",
        "|   2 | MONDO:0000226 | mineral metabolism d |\n",
        "|  10 | MONDO:0005371 | mood disorder        |\n",
        "|   3 | EFO:0000618   | nervous system disea |\n",
        "|   1 | MONDO:0001658 | nontoxic goiter      |\n",
        "|   2 | MONDO:0011122 | obesity disorder     |\n",
        "|   5 | MONDO:0002267 | obstructive lung dis |\n",
        "|   3 | EFO:0003918   | obstructive sleep ap |\n",
        "|   6 | MONDO:0005178 | osteoarthritis       |\n",
        "|   1 | EFO:0009493   | paroxysmal tachycard |\n",
        "|   3 | MONDO:0004247 | peptic ulcer disease |\n",
        "|   1 | EFO:0009816   | perineal laceration  |\n",
        "|   1 | EFO:0003875   | peripheral vascular  |\n",
        "|   1 | MONDO:0005906 | peritonsillar absces |\n",
        "|   1 | MONDO:0000594 | pervasive developmen |\n",
        "|   3 | EFO:0003106   | pneumonia            |\n",
        "|   1 | EFO:0009275   | premature cardiac co |\n",
        "|   1 | MONDO:0021765 | radiculitis          |\n",
        "|   2 | EFO:0009686   | respiratory failure  |\n",
        "|   1 | MONDO:0000376 | respiratory system c |\n",
        "|   2 | EFO:0003839   | retinopathy          |\n",
        "|   2 | MONDO:0005324 | seasonal allergic rh |\n",
        "|   3 | EFO:1000763   | sebaceous gland dise |\n",
        "|   2 | EFO:0000701   | skin disease         |\n",
        "|   2 | EFO:0004198   | skin neoplasm        |\n",
        "|   1 | EFO:0003877   | sleep apnea          |\n",
        "|   2 | EFO:0009608   | stomach disease      |\n",
        "|   1 | EFO:1001216   | tooth disease        |\n",
        "|   1 | MONDO:0002220 | tooth hard tissue di |\n",
        "|   1 | MONDO:0021353 | tumor of uterus      |\n",
        "|   1 | MONDO:0005147 | type 1 diabetes mell |\n",
        "|   4 | MONDO:0005148 | type 2 diabetes mell |\n",
        "|   1 | EFO:0009514   | upper extremity frac |\n",
        "|   2 | MONDO:0002118 | urinary system disea |\n",
        "|   1 | MONDO:0008638 | varicose disease     |\n",
        "+-----+---------------+----------------------+\n",
        "85 rows in set (1 min 50.19 sec)\n",
        "\n",
        "```\n",
        "\n"
      ],
      "metadata": {
        "id": "-CYTBSiXB-bg"
      }
    },
    {
      "cell_type": "code",
      "source": [
        "# test map filtering\n",
        "test_edge =                 {\"600k_63416_12596MONDO:0021765NCBIGene:78987\": {\n",
        "                    \"attributes\": [\n",
        "                        {\n",
        "                            \"attribute_source\": \"infores:genetics-data-provider\",\n",
        "                            \"attribute_type_id\": \"biolink:aggregator_knowledge_source\",\n",
        "                            \"description\": \"The Genetics Data Provider KP from NCATS Translator\",\n",
        "                            \"value\": \"infores:genetics-data-provider\",\n",
        "                            \"value_type_id\": \"biolink:InformationResource\",\n",
        "                            \"value_url\": \"https://translator.broadinstitute.org/genetics_provider/trapi/v1.3\"\n",
        "                        },\n",
        "                        {\n",
        "                            \"attribute_type_id\": \"biolink:p_value\",\n",
        "                            \"original_attribute_name\": \"pValue\",\n",
        "                            \"value\": 0.000194\n",
        "                        }\n",
        "                    ],\n",
        "                    \"object\": \"NCBIGene:78987\",\n",
        "                    \"predicate\": \"biolink:condition_associated_with_gene\",\n",
        "                    \"qualifiers\": [\n",
        "                        {\n",
        "                            \"qualifier_type_id\": \"object_aspect_qualifier\",\n",
        "                            \"qualifier_value\": \"activity\"\n",
        "                        },\n",
        "                        {\n",
        "                            \"qualifier_type_id\": \"object_direction_qualifier\",\n",
        "                            \"qualifier_value\": \"decreased\"\n",
        "                        },\n",
        "                        {\n",
        "                            \"qualifier_type_id\": \"qualified_predicate\",\n",
        "                            \"qualifier_value\": \"caused by\"\n",
        "                        },\n",
        "                        {\n",
        "                            \"qualifier_type_id\": \"subject_aspect_qualifier\",\n",
        "                            \"qualifier_value\": \"severity\"\n",
        "                        },\n",
        "                        {\n",
        "                            \"qualifier_type_id\": \"subject_direction_qualifier\",\n",
        "                            \"qualifier_value\": \"decreased\"\n",
        "                        }\n",
        "                    ],\n",
        "                    \"subject\": \"MONDO:0021765\"\n",
        "                }}\n",
        "\n",
        "map_edges = filter_edges_by_qualifier(test_edge, list_gene_qualifiers)\n",
        "print(\"got filtered count of: {}\".format(len(map_edges)))"
      ],
      "metadata": {
        "colab": {
          "base_uri": "https://localhost:8080/"
        },
        "id": "oBlOOU4AIx_1",
        "outputId": "ef87b357-7480-4db9-8738-8870c125d0f3"
      },
      "execution_count": 49,
      "outputs": [
        {
          "output_type": "stream",
          "name": "stdout",
          "text": [
            "comparing list 1: [{'qualifier_type_id': 'object_aspect_qualifier', 'qualifier_value': 'activity'}, {'qualifier_type_id': 'object_direction_qualifier', 'qualifier_value': 'decreased'}, {'qualifier_type_id': 'subject_aspect_qualifier', 'qualifier_value': 'severity'}, {'qualifier_type_id': 'subject_direction_qualifier', 'qualifier_value': 'decreased'}]\n",
            "comparing list 2: [{'qualifier_type_id': 'object_aspect_qualifier', 'qualifier_value': 'activity'}, {'qualifier_type_id': 'object_direction_qualifier', 'qualifier_value': 'decreased'}, {'qualifier_type_id': 'qualified_predicate', 'qualifier_value': 'caused by'}, {'qualifier_type_id': 'subject_aspect_qualifier', 'qualifier_value': 'severity'}, {'qualifier_type_id': 'subject_direction_qualifier', 'qualifier_value': 'decreased'}]\n",
            "got filtered count of: 1\n"
          ]
        }
      ]
    }
  ]
}