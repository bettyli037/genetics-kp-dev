{
  "nbformat": 4,
  "nbformat_minor": 0,
  "metadata": {
    "colab": {
      "provenance": []
    },
    "kernelspec": {
      "name": "python3",
      "display_name": "Python 3"
    },
    "language_info": {
      "name": "python"
    }
  },
  "cells": [
    {
      "cell_type": "code",
      "execution_count": 6,
      "metadata": {
        "id": "LF40KIzkgrwb"
      },
      "outputs": [],
      "source": [
        "# imports\n",
        "import csv \n",
        "import pandas as pd \n",
        "import os\n",
        "import requests \n",
        "import time\n",
        "import logging\n",
        "import json\n"
      ]
    },
    {
      "cell_type": "code",
      "source": [
        "# constants\n",
        "# gene/disease qualifiers\n",
        "# querying for subject disease decreased severity\n",
        "# looking object gene decreased activity\n",
        "list_gene_qualifiers = [\n",
        "{\"qualifier_type_id\": \"object_aspect_qualifier\", \"qualifier_value\": \"activity\"},\n",
        "{\"qualifier_type_id\": \"object_direction_qualifier\", \"qualifier_value\": \"decreased\"},\n",
        "{\"qualifier_type_id\": \"subject_aspect_qualifier\", \"qualifier_value\": \"severity\"},\n",
        "{\"qualifier_type_id\": \"subject_direction_qualifier\", \"qualifier_value\": \"decreased\"}    \n",
        "]\n",
        "# molecular qualifiers\n",
        "\n",
        "# trapi constants\n",
        "type_gene = 'biolink:Gene'\n",
        "type_disease = 'biolink:Disease'\n",
        "type_molecule = 'biolink:SmallMolecule'\n",
        "type_predicate = 'biolink:related_to'\n",
        "\n",
        "# servers\n",
        "url_genepro = \"https://translator.broadinstitute.org/genetics_provider/trapi/v1.3/query\""
      ],
      "metadata": {
        "id": "xZjbI4pMhDgT"
      },
      "execution_count": 13,
      "outputs": []
    },
    {
      "cell_type": "code",
      "source": [
        "# variables\n",
        "# disease \n",
        "curie_disease = 'MONDO:0021765' # radiculitis\n",
        "curie_disease = 'MONDO:0004975' # alzheimer's\n"
      ],
      "metadata": {
        "id": "pw2FJrJPp0fJ"
      },
      "execution_count": 18,
      "outputs": []
    },
    {
      "cell_type": "code",
      "source": [
        "# methods - trapi\n",
        "def get_nodes_one_hop(url, list_source, list_target, list_source_categories, list_target_categories, list_predicates, log=False):\n",
        "    ''' method to query a trapi url and get the resulting node list back '''\n",
        "    list_result = []\n",
        "\n",
        "    # query\n",
        "    json_response = query_one_hop(url, list_source, list_target, list_source_categories, list_target_categories, list_predicates, log)\n",
        "\n",
        "    # loop and build the list\n",
        "    list_nodes = json_response.get(\"message\").get(\"knowledge_graph\").get(\"nodes\")\n",
        "    if list_nodes and len(list_nodes) > 1:\n",
        "        for key, value in list_nodes.items():\n",
        "            list_result.append((key, value.get(\"name\")))\n",
        "\n",
        "    # log\n",
        "    if log:\n",
        "        print(\"got {} resulting nodes: {}\".format(len(list_result), list_result))\n",
        "\n",
        "    # return\n",
        "    return list_result\n",
        "\n",
        "def query_one_hop(url, list_source, list_target, list_source_categories, list_target_categories, list_predicates, log=False):\n",
        "    ''' method to call a trapi url '''\n",
        "    response = None\n",
        "\n",
        "    # build the payload\n",
        "    payload = build_one_hop_payload(list_source, list_target, list_source_categories, list_target_categories, list_predicates, log=log)\n",
        "\n",
        "    # call the url\n",
        "    print(\"query: {}\".format(url))\n",
        "    response = requests.post(url, json=payload)\n",
        "    output_json = response.json()\n",
        "    print(\"got results from: {}\".format(url))\n",
        "\n",
        "    # log\n",
        "    # if log:\n",
        "    #     logger.info(\"got response: {}\".format(output_json))\n",
        "\n",
        "    # return the json\n",
        "    return output_json\n",
        "\n",
        "def build_one_hop_payload(list_source, list_target, list_source_categories, list_target_categories, list_predicates, log=False):\n",
        "    ''' method to build a one hop json payload for a trapi query '''\n",
        "    payload = {}\n",
        "\n",
        "    # build the payload\n",
        "    nodes = {\"n00\": build_trapi_query_node(list_source, list_source_categories, log=True), \"n01\": build_trapi_query_node(list_target, list_target_categories, log=True)}\n",
        "    edge = {\"subject\": \"n00\", \"object\": \"n01\"}\n",
        "    if list_predicates and len(list_predicates) > 0:\n",
        "        edge[\"predicates\"]= list_predicates\n",
        "    edges = {\"e00\": edge}\n",
        "    payload[\"message\"] = {\"query_graph\": {\"edges\": edges, \"nodes\": nodes}}\n",
        "\n",
        "    # log\n",
        "    if log:\n",
        "        print(\"build trapi payload: \\n{}\".format(json.dumps(payload, indent=4)))\n",
        "\n",
        "    # return\n",
        "    return payload\n",
        "\n",
        "def build_trapi_query_node(list_source, list_source_categories, log=False):\n",
        "    ''' method to build a trapi query node '''\n",
        "    node = {}\n",
        "\n",
        "    # log\n",
        "    # if log:\n",
        "    #     logger.info(\"got id: {} and categories: {}\".format(list_source, list_source_categories))\n",
        "\n",
        "    # build the node\n",
        "    if list_source and len(list_source) > 0:\n",
        "        node['ids'] = list_source\n",
        "    if list_source_categories and len(list_source_categories) > 0:\n",
        "        node['categories'] = list_source_categories\n",
        "\n",
        "    # return\n",
        "    return node"
      ],
      "metadata": {
        "id": "uqEeceVfhE9y"
      },
      "execution_count": 16,
      "outputs": []
    },
    {
      "cell_type": "code",
      "source": [
        "# __main__\n",
        "# query genetics kp\n",
        "nodes = get_nodes_one_hop(url=url_genepro, list_source=[curie_disease], list_target=[], list_source_categories=[type_disease], list_target_categories=[type_gene], list_predicates=[type_predicate], log=True)"
      ],
      "metadata": {
        "colab": {
          "base_uri": "https://localhost:8080/"
        },
        "id": "JygeDvo_hH85",
        "outputId": "35b71387-2820-4f43-99af-13c5f317df26"
      },
      "execution_count": 19,
      "outputs": [
        {
          "output_type": "stream",
          "name": "stdout",
          "text": [
            "build trapi payload: \n",
            "{\n",
            "    \"message\": {\n",
            "        \"query_graph\": {\n",
            "            \"edges\": {\n",
            "                \"e00\": {\n",
            "                    \"subject\": \"n00\",\n",
            "                    \"object\": \"n01\",\n",
            "                    \"predicates\": [\n",
            "                        \"biolink:related_to\"\n",
            "                    ]\n",
            "                }\n",
            "            },\n",
            "            \"nodes\": {\n",
            "                \"n00\": {\n",
            "                    \"ids\": [\n",
            "                        \"MONDO:0004975\"\n",
            "                    ],\n",
            "                    \"categories\": [\n",
            "                        \"biolink:Disease\"\n",
            "                    ]\n",
            "                },\n",
            "                \"n01\": {\n",
            "                    \"categories\": [\n",
            "                        \"biolink:Gene\"\n",
            "                    ]\n",
            "                }\n",
            "            }\n",
            "        }\n",
            "    }\n",
            "}\n",
            "query: https://translator.broadinstitute.org/genetics_provider/trapi/v1.3/query\n",
            "got results from: https://translator.broadinstitute.org/genetics_provider/trapi/v1.3/query\n",
            "got 423 resulting nodes: [('EFO:1001870', \"Late-onset Alzheimer's disease\"), ('MONDO:0004975', \"Alzheimer's disease\"), ('MONDO:0007088', 'Alzheimer disease type 1'), ('MONDO:0007089', 'Alzheimer disease 2'), ('MONDO:0011743', 'Alzheimer disease 4'), ('MONDO:0011913', 'Alzheimer disease 3'), ('NCBIGene:10168', 'ZNF197'), ('NCBIGene:10194', 'TSHZ1'), ('NCBIGene:102', 'ADAM10'), ('NCBIGene:10221', 'TRIB1'), ('NCBIGene:10228', 'STX6'), ('NCBIGene:10347', 'ABCA7'), ('NCBIGene:10452', 'TOMM40'), ('NCBIGene:10537', 'UBD'), ('NCBIGene:10552', 'ARPC1A'), ('NCBIGene:1060', 'CENPC'), ('NCBIGene:10658', 'CELF1'), ('NCBIGene:10734', 'STAG3'), ('NCBIGene:10736', 'SIX2'), ('NCBIGene:10847', 'SRCAP'), ('NCBIGene:10861', 'SLC26A1'), ('NCBIGene:10979', 'FERMT2'), ('NCBIGene:11078', 'TRIOBP'), ('NCBIGene:1108', 'CHD4'), ('NCBIGene:111', 'ADCY5'), ('NCBIGene:11129', 'CLASRP'), ('NCBIGene:11136', 'SLC7A9'), ('NCBIGene:11244', 'ZHX1'), ('NCBIGene:11245', 'GPR176'), ('NCBIGene:112616', 'CMTM7'), ('NCBIGene:112755', 'STX1B'), ('NCBIGene:113178', 'SCAMP4'), ('NCBIGene:11335', 'CBX3'), ('NCBIGene:1135', 'CHRNA2'), ('NCBIGene:1141', 'CHRNB2'), ('NCBIGene:114132', 'SIGLEC11'), ('NCBIGene:1145', 'CHRNE'), ('NCBIGene:114900', 'C1QTNF4'), ('NCBIGene:114926', 'SMIM19'), ('NCBIGene:115708', 'TRMT61A'), ('NCBIGene:1158', 'CKM'), ('NCBIGene:116444', 'GRIN3B'), ('NCBIGene:1191', 'CLU'), ('NCBIGene:1209', 'CLPTM1'), ('NCBIGene:121642', 'ALKBH2'), ('NCBIGene:123016', 'TTC8'), ('NCBIGene:123041', 'SLC24A4'), ('NCBIGene:124152', 'IQCK'), ('NCBIGene:124446', 'TMEM219'), ('NCBIGene:124961', 'ZFP3'), ('NCBIGene:124997', 'WDR81'), ('NCBIGene:125893', 'ZNF816'), ('NCBIGene:1265', 'CNN2'), ('NCBIGene:127294', 'MYOM3'), ('NCBIGene:129450', 'TYW5'), ('NCBIGene:132724', 'TMPRSS11B'), ('NCBIGene:1378', 'CR1'), ('NCBIGene:1379', 'CR1L'), ('NCBIGene:140732', 'SUN5'), ('NCBIGene:140738', 'TMEM37'), ('NCBIGene:1408', 'CRY2'), ('NCBIGene:140885', 'SIRPA'), ('NCBIGene:143684', 'FAM76B'), ('NCBIGene:1460', 'CSNK2B'), ('NCBIGene:146542', 'ZNF688'), ('NCBIGene:146691', 'TOM1L2'), ('NCBIGene:147700', 'KLC3'), ('NCBIGene:147710', 'IGSF23'), ('NCBIGene:147912', 'SIX5'), ('NCBIGene:148418', 'SAMD13'), ('NCBIGene:149478', 'BTBD19'), ('NCBIGene:151050', 'KANSL1L'), ('NCBIGene:152687', 'ZNF595'), ('NCBIGene:153527', 'ZMAT2'), ('NCBIGene:153733', 'CCDC112'), ('NCBIGene:161', 'AP2A2'), ('NCBIGene:162540', 'SPPL2C'), ('NCBIGene:162979', 'ZNF296'), ('NCBIGene:1636', 'ACE'), ('NCBIGene:164', 'AP1G1'), ('NCBIGene:1667', 'DEFA1'), ('NCBIGene:170463', 'SSBP4'), ('NCBIGene:1743', 'DLST'), ('NCBIGene:1760', 'DMPK'), ('NCBIGene:1762', 'DMWD'), ('NCBIGene:1839', 'HBEGF'), ('NCBIGene:1992', 'SERPINB1'), ('NCBIGene:200734', 'SPRED2'), ('NCBIGene:2011', 'MARK2'), ('NCBIGene:202374', 'STK32A'), ('NCBIGene:202915', 'TMEM184A'), ('NCBIGene:203328', 'SUSD3'), ('NCBIGene:2041', 'EPHA1'), ('NCBIGene:2067', 'ERCC1'), ('NCBIGene:2068', 'ERCC2'), ('NCBIGene:2185', 'PTK2B'), ('NCBIGene:219681', 'ARMC3'), ('NCBIGene:220047', 'CCDC83'), ('NCBIGene:2206', 'MS4A2'), ('NCBIGene:2218', 'FKTN'), ('NCBIGene:222642', 'TSPO2'), ('NCBIGene:222643', 'UNC5CL'), ('NCBIGene:222696', 'ZSCAN23'), ('NCBIGene:22834', 'ZNF652'), ('NCBIGene:22843', 'PPM1E'), ('NCBIGene:23046', 'KIF21B'), ('NCBIGene:23274', 'CLEC16A'), ('NCBIGene:23279', 'NUP160'), ('NCBIGene:23358', 'USP24'), ('NCBIGene:23360', 'FNBP4'), ('NCBIGene:23361', 'ZNF629'), ('NCBIGene:23403', 'FBXO46'), ('NCBIGene:2346', 'FOLH1'), ('NCBIGene:23471', 'TRAM1'), ('NCBIGene:23534', 'TNPO3'), ('NCBIGene:23607', 'CD2AP'), ('NCBIGene:23624', 'CBLC'), ('NCBIGene:23788', 'MTCH2'), ('NCBIGene:24139', 'EML2'), ('NCBIGene:245802', 'MS4A6E'), ('NCBIGene:245812', 'CNPY4'), ('NCBIGene:246744', 'STH'), ('NCBIGene:252983', 'STXBP4'), ('NCBIGene:253430', 'IPMK'), ('NCBIGene:2547', 'XRCC6'), ('NCBIGene:255738', 'PCSK9'), ('NCBIGene:2582', 'GALE'), ('NCBIGene:25865', 'PRKD2'), ('NCBIGene:25928', 'SOSTDC1'), ('NCBIGene:26093', 'CCDC9'), ('NCBIGene:26100', 'WIPI2'), ('NCBIGene:26115', 'TANC2'), ('NCBIGene:26751', 'SH3YL1'), ('NCBIGene:27250', 'PDCD4'), ('NCBIGene:27332', 'ZNF638'), ('NCBIGene:274', 'BIN1'), ('NCBIGene:283116', 'TRIM49B'), ('NCBIGene:283514', 'SIAH3'), ('NCBIGene:283571', 'PROX2'), ('NCBIGene:283726', 'SAXO2'), ('NCBIGene:284352', 'PPP1R37'), ('NCBIGene:284353', 'NKPD1'), ('NCBIGene:284521', 'OR2L13'), ('NCBIGene:285313', 'IGSF10'), ('NCBIGene:285346', 'ZNF852'), ('NCBIGene:285852', 'TREML4'), ('NCBIGene:286133', 'SCARA5'), ('NCBIGene:28955', 'DEXI'), ('NCBIGene:28964', 'GIT1'), ('NCBIGene:29901', 'SAC3D1'), ('NCBIGene:29999', 'FSCN3'), ('NCBIGene:30009', 'TBX21'), ('NCBIGene:3050', 'HBZ'), ('NCBIGene:30850', 'CDR2L'), ('NCBIGene:3112', 'HLA-DOB'), ('NCBIGene:3117', 'HLA-DQA1'), ('NCBIGene:3119', 'HLA-DQB1'), ('NCBIGene:3122', 'HLA-DRA'), ('NCBIGene:3123', 'HLA-DRB1'), ('NCBIGene:3127', 'HLA-DRB5'), ('NCBIGene:3181', 'HNRNPA2B1'), ('NCBIGene:3263', 'HPX'), ('NCBIGene:339965', 'CCDC158'), ('NCBIGene:339967', 'TMPRSS11A'), ('NCBIGene:340419', 'RSPO2'), ('NCBIGene:341', 'APOC1'), ('NCBIGene:344', 'APOC2'), ('NCBIGene:346', 'APOC4'), ('NCBIGene:348', 'APOE'), ('NCBIGene:348235', 'SKA2'), ('NCBIGene:349667', 'RTN4RL2'), ('NCBIGene:351', 'APP'), ('NCBIGene:353274', 'ZNF445'), ('NCBIGene:3674', 'ITGA2B'), ('NCBIGene:373509', 'USP50'), ('NCBIGene:3837', 'KPNB1'), ('NCBIGene:387032', 'ZKSCAN4'), ('NCBIGene:387694', 'SH2D4B'), ('NCBIGene:387911', 'C1QTNF9B'), ('NCBIGene:388325', 'SCIMP'), ('NCBIGene:388551', 'CEACAM16'), ('NCBIGene:388552', 'BLOC1S3'), ('NCBIGene:388567', 'ZNF749'), ('NCBIGene:391013', 'PLA2G2C'), ('NCBIGene:399694', 'SHC4'), ('NCBIGene:399979', 'SNX19'), ('NCBIGene:400506', 'KNOP1'), ('NCBIGene:400673', 'VMAC'), ('NCBIGene:401024', 'FSIP2'), ('NCBIGene:401548', 'SNX30'), ('NCBIGene:401934', 'RNF223'), ('NCBIGene:403253', 'OR4A47'), ('NCBIGene:4059', 'BCAM'), ('NCBIGene:4143', 'MAT1A'), ('NCBIGene:4285', 'MIPEP'), ('NCBIGene:4591', 'TRIM37'), ('NCBIGene:4607', 'MYBPC3'), ('NCBIGene:4610', 'MYCL'), ('NCBIGene:4722', 'NDUFS3'), ('NCBIGene:4839', 'NOP2'), ('NCBIGene:4855', 'NOTCH4'), ('NCBIGene:4938', 'OAS1'), ('NCBIGene:4939', 'OAS2'), ('NCBIGene:494188', 'FBXO47'), ('NCBIGene:50488', 'MINK1'), ('NCBIGene:50613', 'UBQLN3'), ('NCBIGene:5078', 'PAX4'), ('NCBIGene:51014', 'TMED7'), ('NCBIGene:51077', 'FCF1'), ('NCBIGene:51110', 'LACTB2'), ('NCBIGene:51314', 'NME8'), ('NCBIGene:51322', 'WAC'), ('NCBIGene:51333', 'ZNF771'), ('NCBIGene:51338', 'MS4A4A'), ('NCBIGene:51363', 'CHST15'), ('NCBIGene:51435', 'SCARA3'), ('NCBIGene:51444', 'RNF138'), ('NCBIGene:51477', 'ISYNA1'), ('NCBIGene:51506', 'UFC1'), ('NCBIGene:51560', 'RAB6B'), ('NCBIGene:51593', 'SRRT'), ('NCBIGene:51661', 'FKBP7'), ('NCBIGene:51760', 'SYT17'), ('NCBIGene:52', 'ACP1'), ('NCBIGene:5201', 'PFDN1'), ('NCBIGene:53358', 'SHC3'), ('NCBIGene:53373', 'TPCN1'), ('NCBIGene:5345', 'SERPINF2'), ('NCBIGene:53944', 'CSNK1G1'), ('NCBIGene:54209', 'TREM2'), ('NCBIGene:54498', 'SMOX'), ('NCBIGene:54540', 'FAM193B'), ('NCBIGene:54664', 'TMEM106B'), ('NCBIGene:54802', 'TRIT1'), ('NCBIGene:54814', 'QPCTL'), ('NCBIGene:54822', 'TRPM7'), ('NCBIGene:54868', 'TMEM104'), ('NCBIGene:54882', 'ANKHD1'), ('NCBIGene:54894', 'RNF43'), ('NCBIGene:5493', 'PPL'), ('NCBIGene:54952', 'TRNAU1AP'), ('NCBIGene:55063', 'ZCWPW1'), ('NCBIGene:55065', 'SLC52A1'), ('NCBIGene:55432', 'YOD1'), ('NCBIGene:55437', 'STRADB'), ('NCBIGene:55680', 'RUFY2'), ('NCBIGene:55697', 'VAC14'), ('NCBIGene:55734', 'ZFP64'), ('NCBIGene:55759', 'WDR12'), ('NCBIGene:55847', 'CISD1'), ('NCBIGene:55888', 'ZKSCAN7'), ('NCBIGene:56287', 'GKN1'), ('NCBIGene:5663', 'PSEN1'), ('NCBIGene:5664', 'PSEN2'), ('NCBIGene:56829', 'ZC3HAV1'), ('NCBIGene:56971', 'CEACAM19'), ('NCBIGene:56993', 'TOMM22'), ('NCBIGene:56996', 'SLC12A9'), ('NCBIGene:5702', 'PSMC3'), ('NCBIGene:5706', 'PSMC6'), ('NCBIGene:57091', 'CASS4'), ('NCBIGene:57418', 'WDR18'), ('NCBIGene:57508', 'INTS2'), ('NCBIGene:57666', 'FBRSL1'), ('NCBIGene:57761', 'TRIB3'), ('NCBIGene:57787', 'MARK4'), ('NCBIGene:5817', 'PVR'), ('NCBIGene:5866', 'RAB3IL1'), ('NCBIGene:5913', 'RAPSN'), ('NCBIGene:59338', 'PLEKHA1'), ('NCBIGene:5971', 'RELB'), ('NCBIGene:60', 'ACTB'), ('NCBIGene:6004', 'RGS16'), ('NCBIGene:602', 'BCL3'), ('NCBIGene:6184', 'RPN1'), ('NCBIGene:6238', 'RRBP1'), ('NCBIGene:6288', 'SAA1'), ('NCBIGene:63892', 'THADA'), ('NCBIGene:63940', 'GPSM3'), ('NCBIGene:64168', 'NECAB1'), ('NCBIGene:64231', 'MS4A6A'), ('NCBIGene:64288', 'ZSCAN31'), ('NCBIGene:643680', 'MS4A4E'), ('NCBIGene:64418', 'TMEM168'), ('NCBIGene:646754', 'TRIM64C'), ('NCBIGene:647310', 'TEX22'), ('NCBIGene:64759', 'TNS3'), ('NCBIGene:65125', 'WNK1'), ('NCBIGene:6540', 'SLC6A13'), ('NCBIGene:6575', 'SLC20A2'), ('NCBIGene:6631', 'SNRPC'), ('NCBIGene:6633', 'SNRPD2'), ('NCBIGene:6642', 'SNX1'), ('NCBIGene:6653', 'SORL1'), ('NCBIGene:6688', 'SPI1'), ('NCBIGene:6720', 'SREBF1'), ('NCBIGene:678', 'ZFP36L2'), ('NCBIGene:6789', 'STK4'), ('NCBIGene:6810', 'STX4'), ('NCBIGene:6815', 'STYX'), ('NCBIGene:6850', 'SYK'), ('NCBIGene:6854', 'SYN2'), ('NCBIGene:6878', 'TAF6'), ('NCBIGene:6891', 'TAP2'), ('NCBIGene:6898', 'TAT'), ('NCBIGene:6911', 'TBX6'), ('NCBIGene:7003', 'TEAD1'), ('NCBIGene:7036', 'TFR2'), ('NCBIGene:7067', 'THRA'), ('NCBIGene:7079', 'TIMP4'), ('NCBIGene:7148', 'TNXB'), ('NCBIGene:716', 'C1S'), ('NCBIGene:7168', 'TPM1'), ('NCBIGene:7205', 'TRIP6'), ('NCBIGene:7332', 'UBE2L3'), ('NCBIGene:7334', 'UBE2N'), ('NCBIGene:7367', 'UGT2B17'), ('NCBIGene:7398', 'USP1'), ('NCBIGene:7408', 'VASP'), ('NCBIGene:7473', 'WNT3'), ('NCBIGene:7534', 'YWHAZ'), ('NCBIGene:7542', 'ZFPL1'), ('NCBIGene:7551', 'ZNF3'), ('NCBIGene:7586', 'ZKSCAN1'), ('NCBIGene:7589', 'ZSCAN21'), ('NCBIGene:7596', 'ZNF45'), ('NCBIGene:7638', 'ZNF221'), ('NCBIGene:7711', 'ZNF155'), ('NCBIGene:7733', 'ZNF180'), ('NCBIGene:7741', 'ZSCAN26'), ('NCBIGene:7746', 'ZSCAN9'), ('NCBIGene:7772', 'ZNF229'), ('NCBIGene:7775', 'ZNF232'), ('NCBIGene:7791', 'ZYX'), ('NCBIGene:7805', 'LAPTM5'), ('NCBIGene:79001', 'VKORC1'), ('NCBIGene:79027', 'ZNF655'), ('NCBIGene:79083', 'MLPH'), ('NCBIGene:79090', 'TRAPPC6A'), ('NCBIGene:7916', 'PRRC2A'), ('NCBIGene:7917', 'BAG6'), ('NCBIGene:79628', 'SH3TC2'), ('NCBIGene:79720', 'VPS37B'), ('NCBIGene:79724', 'ZNF768'), ('NCBIGene:79759', 'ZNF668'), ('NCBIGene:79760', 'GEMIN7'), ('NCBIGene:79811', 'SLTM'), ('NCBIGene:79841', 'AGBL2'), ('NCBIGene:79865', 'TREML2'), ('NCBIGene:79895', 'ATP8B4'), ('NCBIGene:79897', 'RPP21'), ('NCBIGene:80196', 'RNF34'), ('NCBIGene:80232', 'WDR26'), ('NCBIGene:80317', 'ZKSCAN3'), ('NCBIGene:8036', 'SHOC2'), ('NCBIGene:80723', 'SLC35G2'), ('NCBIGene:81492', 'RSPH6A'), ('NCBIGene:81615', 'TMEM163'), ('NCBIGene:81619', 'TSPAN14'), ('NCBIGene:8178', 'ELL'), ('NCBIGene:81858', 'SHARPIN'), ('NCBIGene:8189', 'SYMPK'), ('NCBIGene:8301', 'PICALM'), ('NCBIGene:83694', 'RPS6KL1'), ('NCBIGene:83697', 'SLC4A9'), ('NCBIGene:83719', 'YPEL3'), ('NCBIGene:83940', 'TATDN1'), ('NCBIGene:84268', 'RPAIN'), ('NCBIGene:84287', 'ZDHHC16'), ('NCBIGene:84336', 'TMEM101'), ('NCBIGene:84561', 'SLC12A8'), ('NCBIGene:84622', 'ZNF594'), ('NCBIGene:84888', 'SPPL2A'), ('NCBIGene:84959', 'UBASH3B'), ('NCBIGene:85414', 'SLC45A3'), ('NCBIGene:8575', 'PRKRA'), ('NCBIGene:8672', 'EIF4G3'), ('NCBIGene:8829', 'NRP1'), ('NCBIGene:8878', 'SQSTM1'), ('NCBIGene:8891', 'EIF2B3'), ('NCBIGene:89122', 'TRIM4'), ('NCBIGene:8995', 'TNFSF18'), ('NCBIGene:90025', 'UBE3D'), ('NCBIGene:90113', 'VWA5B2'), ('NCBIGene:90226', 'UCN2'), ('NCBIGene:90268', 'OTULIN'), ('NCBIGene:90326', 'THAP3'), ('NCBIGene:90332', 'EXOC3L2'), ('NCBIGene:9043', 'SPAG9'), ('NCBIGene:90488', 'TMEM263'), ('NCBIGene:90576', 'ZNF799'), ('NCBIGene:9077', 'DIRAS3'), ('NCBIGene:9098', 'USP6'), ('NCBIGene:9101', 'USP8'), ('NCBIGene:9112', 'MTA1'), ('NCBIGene:91252', 'SLC39A13'), ('NCBIGene:91304', 'TMEM259'), ('NCBIGene:9135', 'RABEP1'), ('NCBIGene:9136', 'RRP9'), ('NCBIGene:91523', 'PCED1B'), ('NCBIGene:91603', 'ZNF830'), ('NCBIGene:9179', 'AP4M1'), ('NCBIGene:92482', 'BBIP1'), ('NCBIGene:92610', 'TIFA'), ('NCBIGene:932', 'MS4A3'), ('NCBIGene:9344', 'TAOK2'), ('NCBIGene:94241', 'TP53INP1'), ('NCBIGene:945', 'CD33'), ('NCBIGene:949', 'SCARB1'), ('NCBIGene:952', 'CD38'), ('NCBIGene:9520', 'NPEPPS'), ('NCBIGene:9552', 'SPAG7'), ('NCBIGene:9603', 'NFE2L3'), ('NCBIGene:9702', 'CEP57'), ('NCBIGene:9712', 'USP6NL'), ('NCBIGene:9726', 'ZNF646'), ('NCBIGene:9739', 'SETD1A'), ('NCBIGene:9753', 'ZSCAN12'), ('NCBIGene:9783', 'RIMS3'), ('NCBIGene:9810', 'RNF40'), ('NCBIGene:9870', 'AREL1'), ('NCBIGene:9892', 'SNAP91'), ('NCBIGene:9969', 'MED13')]\n"
          ]
        }
      ]
    }
  ]
}